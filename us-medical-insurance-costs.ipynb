{
 "cells": [
  {
   "cell_type": "markdown",
   "metadata": {},
   "source": [
    "# U.S. Medical Insurance Costs"
   ]
  },
  {
   "cell_type": "code",
   "execution_count": 15,
   "metadata": {},
   "outputs": [],
   "source": [
    "import csv\n",
    "ins_costs = list()\n",
    "smoke_status = list()\n",
    "ages = list()\n",
    "with open('insurance.csv', newline='') as csvfile:\n",
    "    csvreader = csv.DictReader(csvfile)\n",
    "    for row in csvreader:\n",
    "        ins_costs.append(row[\"charges\"])\n",
    "        smoke_status.append(row[\"smoker\"])\n",
    "        ages.append(row[\"age\"])\n",
    "# print(ins_costs)\n",
    "# print(smoke_status)\n",
    "# print(ages)\n",
    "\n",
    "    \n"
   ]
  },
  {
   "cell_type": "code",
   "execution_count": 38,
   "metadata": {},
   "outputs": [
    {
     "name": "stdout",
     "output_type": "stream",
     "text": [
      "There are 1338 records in insurance.csv.\n",
      "The average insurance cost is $ 13270.42.\n",
      "The average age is 39.\n",
      "20.48 % of them are smokers.\n",
      "None\n"
     ]
    }
   ],
   "source": [
    "def analyze():\n",
    "    num_of_records = len(ins_costs)\n",
    "    total_age = 0\n",
    "    total_ins_cost = 0\n",
    "    total_smokers = 0\n",
    "    for ins_cost in ins_costs:\n",
    "        total_ins_cost += float(ins_cost)\n",
    "    for age in ages:\n",
    "        total_age += int(age)\n",
    "    for smoker in smoke_status:\n",
    "        if smoker == \"yes\":\n",
    "            total_smokers +=1\n",
    "    average_ins_cost = total_ins_cost/num_of_records\n",
    "    round_average_ins_cost = round(average_ins_cost,2)\n",
    "    average_age = total_age/num_of_records\n",
    "    round_average_age = round(average_age)\n",
    "    percentage_smoker = total_smokers/num_of_records*100\n",
    "    round_percentage_smoker = round(percentage_smoker,2)\n",
    "    print(f\"There are {num_of_records} records in insurance.csv.\")\n",
    "    print(f\"The average insurance cost is $ {round_average_ins_cost}.\")\n",
    "    print(f\"The average age is {round_average_age}.\")\n",
    "    print(f\"{round_percentage_smoker} % of them are smokers.\")\n",
    " \n",
    "    \n",
    "print(analyze())"
   ]
  },
  {
   "cell_type": "code",
   "execution_count": null,
   "metadata": {},
   "outputs": [],
   "source": []
  },
  {
   "cell_type": "code",
   "execution_count": null,
   "metadata": {},
   "outputs": [],
   "source": []
  }
 ],
 "metadata": {
  "kernelspec": {
   "display_name": "Python 3 (ipykernel)",
   "language": "python",
   "name": "python3"
  },
  "language_info": {
   "codemirror_mode": {
    "name": "ipython",
    "version": 3
   },
   "file_extension": ".py",
   "mimetype": "text/x-python",
   "name": "python",
   "nbconvert_exporter": "python",
   "pygments_lexer": "ipython3",
   "version": "3.11.7"
  }
 },
 "nbformat": 4,
 "nbformat_minor": 4
}
